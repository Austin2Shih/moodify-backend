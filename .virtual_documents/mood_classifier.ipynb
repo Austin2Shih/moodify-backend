import os
import numpy as np
import pandas as pd
import matplotlib.pyplot as plt
import IPython
import librosa
import librosa.display


# Extracting data into dataframe
arousal = pd.read_csv('./annotations/arousal.csv')
arousal
